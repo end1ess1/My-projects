{
 "cells": [
  {
   "cell_type": "code",
   "execution_count": 6,
   "metadata": {},
   "outputs": [],
   "source": [
    "import pymilvus\n",
    "import pandas as pd\n",
    "from pymilvus import MilvusClient\n",
    "from pymilvus import (\n",
    "   utility,\n",
    "   FieldSchema, CollectionSchema, DataType,\n",
    "   Collection, AnnSearchRequest, RRFRanker, connections,\n",
    ")\n",
    "from pymilvus.model.sparse.bm25.tokenizers import build_default_analyzer\n",
    "from pymilvus.model.sparse import BM25EmbeddingFunction"
   ]
  },
  {
   "cell_type": "code",
   "execution_count": 4,
   "metadata": {},
   "outputs": [],
   "source": [
    "analyzer = build_default_analyzer(language=\"ru\")"
   ]
  },
  {
   "cell_type": "code",
   "execution_count": 7,
   "metadata": {},
   "outputs": [],
   "source": [
    "product_title = ['7th Dragon III Code: VFD - Nintendo 3DS (Renewed)',\n",
    " 'Mesh Bags Drawstring Bag Set - Nylon Mesh Drawstring Bags with Cord Lock Closure',\n",
    " 'FIFA 20 Standard Edition - Xbox One',\n",
    " 'Head Case Designs Officially Licensed Tom and Jerry Outdoor Chase Comic Graphics Vinyl Sticker Gaming',\n",
    " 'Cloudz\"The Big Bag\" Travel & Sport Duffle Bag']"
   ]
  },
  {
   "cell_type": "code",
   "execution_count": 8,
   "metadata": {},
   "outputs": [],
   "source": [
    "corpus = [str(i) for i in product_title]"
   ]
  },
  {
   "cell_type": "code",
   "execution_count": 9,
   "metadata": {},
   "outputs": [],
   "source": [
    "bm25_ef = BM25EmbeddingFunction(analyzer)"
   ]
  },
  {
   "cell_type": "code",
   "execution_count": 10,
   "metadata": {},
   "outputs": [],
   "source": [
    "bm25_ef.fit(corpus)"
   ]
  },
  {
   "cell_type": "code",
   "execution_count": 11,
   "metadata": {},
   "outputs": [],
   "source": [
    "# Create embeddings for product title\n",
    "product_title_embeddings = bm25_ef.encode_documents(product_title)"
   ]
  },
  {
   "cell_type": "code",
   "execution_count": null,
   "metadata": {},
   "outputs": [],
   "source": [
    "analyzer = build_default_analyzer(language=\"ru\")\n",
    "\n",
    "# Create corpus based on product title\n",
    "corpus = df[\"title\"].values.tolist()\n",
    "corpus = [str(i) for i in corpus]\n",
    "\n",
    "# Use the analyzer to instantiate the BM25EmbeddingFunction\n",
    "bm25_ef = BM25EmbeddingFunction(analyzer)\n",
    "# Fit the model on the corpus to get the statistics of the corpus\n",
    "bm25_ef.fit(corpus)\n"
   ]
  },
  {
   "cell_type": "code",
   "execution_count": 15,
   "metadata": {},
   "outputs": [
    {
     "data": {
      "text/plain": [
       "<Compressed Sparse Row sparse array of dtype 'float32'\n",
       "\twith 8 stored elements and shape (46,)>"
      ]
     },
     "execution_count": 15,
     "metadata": {},
     "output_type": "execute_result"
    }
   ],
   "source": [
    "list(product_title_embeddings)[0]"
   ]
  },
  {
   "cell_type": "code",
   "execution_count": 12,
   "metadata": {},
   "outputs": [
    {
     "name": "stdout",
     "output_type": "stream",
     "text": [
      "Sparse dim: 46 (46,)\n"
     ]
    }
   ],
   "source": [
    "print(\"Sparse dim:\", bm25_ef.dim, list(product_title_embeddings)[0].shape)"
   ]
  },
  {
   "cell_type": "code",
   "execution_count": null,
   "metadata": {},
   "outputs": [],
   "source": [
    "product_title = ['7th Dragon III Code: VFD - Nintendo 3DS (Renewed)',\n",
    " 'Mesh Bags Drawstring Bag Set - Nylon Mesh Drawstring Bags with Cord Lock Closure',\n",
    " 'FIFA 20 Standard Edition - Xbox One',\n",
    " 'Head Case Designs Officially Licensed Tom and Jerry Outdoor Chase Comic Graphics Vinyl Sticker Gaming',\n",
    " 'Cloudz\"The Big Bag\" Travel & Sport Duffle Bag']\n",
    "\n",
    "# Create embeddings for product title\n",
    "product_title_embeddings = bm25_ef.encode_documents(product_title)\n",
    "\n",
    "print(\"Sparse dim:\", bm25_ef.dim, list(product_title_embeddings)[0].shape)\n",
    "\n",
    "\"\"\"\n",
    "Output:\n",
    "Sparse dim: 673273 (1, 673273)\n",
    "\"\"\"\n"
   ]
  },
  {
   "cell_type": "code",
   "execution_count": null,
   "metadata": {},
   "outputs": [],
   "source": [
    "connections.connect(\"default\", host=\"localhost\", port=\"19530\")\n",
    "\n",
    "fields = [\n",
    "    FieldSchema(name=\"pk\", dtype=DataType.VARCHAR,\n",
    "                is_primary=True, auto_id=True, max_length=100),\n",
    "    FieldSchema(name=\"product_title\", dtype=DataType.VARCHAR, max_length=512),\n",
    "    FieldSchema(name=\"product_title_vector\", dtype=DataType.SPARSE_FLOAT_VECTOR),\n",
    "]\n",
    "\n",
    "schema = CollectionSchema(fields, \"\")\n",
    "col = Collection(\"bm25_demo\", schema)\n",
    "\n",
    "sparse_index = {\"index_type\": \"SPARSE_INVERTED_INDEX\", \"metric_type\": \"IP\"}\n",
    "col.create_index(\"product_title_vector\", sparse_index)\n",
    "\n",
    "# Insert data into schema\n",
    "entities = [product_title, product_title_embeddings]\n",
    "col.insert(entities)\n",
    "col.flush()\n"
   ]
  },
  {
   "cell_type": "code",
   "execution_count": 11,
   "metadata": {},
   "outputs": [
    {
     "name": "stdout",
     "output_type": "stream",
     "text": [
      " ��� � ���ன�⢥ C �� ����� ��⪨.\n",
      " ��਩�� ����� ⮬�: 9801-055A\n",
      "\n",
      " ����ন��� ����� c:\\Users\\My End_1ess C\\Documents\\������\\MyGithub\\end1ess1\\chat_bot_project\\Airflow\\Libs\n",
      "\n",
      "01.03.2025  15:24    <DIR>          .\n",
      "26.02.2025  23:42    <DIR>          ..\n",
      "26.02.2025  00:43             1�686 .env\n",
      "28.02.2025  11:44             9�141 lib.py\n",
      "26.02.2025  20:37             8�314 log_lib.py\n",
      "27.02.2025  10:27             7�985 milvus_lib.py\n",
      "26.02.2025  20:37             3�215 model_lib.py\n",
      "28.02.2025  01:01             5�497 test.ipynb\n",
      "01.03.2025  15:25             1�011 test.py\n",
      "16.02.2025  23:47                 0 __init__.py\n",
      "27.02.2025  10:28    <DIR>          __pycache__\n",
      "               8 䠩���         36�849 ����\n",
      "               3 �����  329�755�021�312 ���� ᢮�����\n"
     ]
    }
   ],
   "source": [
    "!dir"
   ]
  },
  {
   "cell_type": "code",
   "execution_count": null,
   "metadata": {},
   "outputs": [
    {
     "name": "stdout",
     "output_type": "stream",
     "text": [
      "Args(schema=None, source_schema=None, target_schema=None, base_table=None, model_id=None, manual_dt=None, target_vector=None, in_vector=None, out_vector=None, dag_name=None, dag_schedule=None, dev_pkl_file_name=None, dict_imp_file_name=None, score=None, target=None)\n"
     ]
    }
   ],
   "source": [
    "%run test.py"
   ]
  },
  {
   "cell_type": "code",
   "execution_count": null,
   "metadata": {},
   "outputs": [],
   "source": []
  },
  {
   "cell_type": "code",
   "execution_count": null,
   "metadata": {},
   "outputs": [],
   "source": []
  },
  {
   "cell_type": "code",
   "execution_count": null,
   "metadata": {},
   "outputs": [],
   "source": []
  },
  {
   "cell_type": "code",
   "execution_count": null,
   "metadata": {},
   "outputs": [],
   "source": []
  },
  {
   "cell_type": "code",
   "execution_count": null,
   "metadata": {},
   "outputs": [
    {
     "name": "stderr",
     "output_type": "stream",
     "text": [
      "usage: ipykernel_launcher.py [-h] [--schema SCHEMA]\n",
      "                             [--source_schema SOURCE_SCHEMA]\n",
      "                             [--target_schema TARGET_SCHEMA]\n",
      "                             [--base_table BASE_TABLE] [--model_id MODEL_ID]\n",
      "                             [--manual_dt MANUAL_DT]\n",
      "                             [--target_vector TARGET_VECTOR]\n",
      "                             [--in_vector IN_VECTOR] [--out_vector OUT_VECTOR]\n",
      "                             [--dag_name DAG_NAME]\n",
      "                             [--dag_schedule DAG_SCHEDULE]\n",
      "                             [--dev_pkl_file_name DEV_PKL_FILE_NAME]\n",
      "                             [--dict_imp_file_name DICT_IMP_FILE_NAME]\n",
      "                             [--score SCORE] [--target TARGET]\n",
      "ipykernel_launcher.py: error: unrecognized arguments: --f=\"c:\\Users\\My End_1ess C\\AppData\\Roaming\\jupyter\\runtime\\kernel-v3fdb855f7a038459251e96ac70a4653233ca859d0.json\"\n"
     ]
    },
    {
     "ename": "SystemExit",
     "evalue": "2",
     "output_type": "error",
     "traceback": [
      "An exception has occurred, use %tb to see the full traceback.\n",
      "\u001b[1;31mSystemExit\u001b[0m\u001b[1;31m:\u001b[0m 2\n"
     ]
    },
    {
     "name": "stderr",
     "output_type": "stream",
     "text": [
      "c:\\Users\\My End_1ess C\\Documents\\Диплом\\MyGithub\\end1ess1\\chat_bot_project\\venv\\Lib\\site-packages\\IPython\\core\\interactiveshell.py:3587: UserWarning: To exit: use 'exit', 'quit', or Ctrl-D.\n",
      "  warn(\"To exit: use 'exit', 'quit', or Ctrl-D.\", stacklevel=1)\n"
     ]
    }
   ],
   "source": [
    "from dataclasses import dataclass, fields\n",
    "import argparse\n",
    "\n",
    "@dataclass\n",
    "class Args:\n",
    "    schema: str\n",
    "    source_schema: str\n",
    "    target_schema: str\n",
    "    base_table: str\n",
    "    model_id: str\n",
    "    manual_dt: str\n",
    "    target_vector: str\n",
    "    in_vector: str\n",
    "    out_vector: str\n",
    "    dag_name: str\n",
    "    dag_schedule: str\n",
    "    dev_pkl_file_name: str\n",
    "    dict_imp_file_name: str\n",
    "    score: str\n",
    "    target: str\n",
    "\n",
    "    @classmethod\n",
    "    def parse(cls):\n",
    "        parser = argparse.ArgumentParser()\n",
    "        for field in fields(cls):\n",
    "            parser.add_argument(\n",
    "                f\"--{field.name}\",\n",
    "                type=str,  # Все параметры строковые, если не указано иначе\n",
    "                help=f\"{field.name} description\"\n",
    "            )\n",
    "        args = parser.parse_args()\n",
    "        return cls(**vars(args))  # Создаём экземпляр класса из аргументов\n",
    "\n",
    "# Пример использования:\n",
    "args = Args.parse()\n",
    "print(args)\n"
   ]
  },
  {
   "cell_type": "code",
   "execution_count": 3,
   "metadata": {},
   "outputs": [],
   "source": [
    "def test(f):\n",
    "    print(f)"
   ]
  },
  {
   "cell_type": "code",
   "execution_count": 4,
   "metadata": {},
   "outputs": [
    {
     "name": "stdout",
     "output_type": "stream",
     "text": [
      "[0, 1, 2, 3, 4, 5, 6, 7, 8, 9, 10, 11, 12, 13, 14, 15, 16, 17, 18, 19, 20, 21, 22, 23, 24]\n",
      "[25, 26, 27, 28, 29, 30, 31, 32, 33, 34, 35, 36, 37, 38, 39, 40, 41, 42, 43, 44, 45, 46, 47, 48, 49]\n",
      "[50, 51, 52, 53, 54, 55, 56, 57, 58, 59, 60, 61, 62, 63, 64, 65, 66, 67, 68, 69]\n"
     ]
    }
   ],
   "source": [
    "import math\n",
    "\n",
    "def process_features(features, batch_size=25):\n",
    "    num_batches = math.ceil(len(features) / batch_size)\n",
    "    \n",
    "    for i in range(num_batches):\n",
    "        start = i * batch_size\n",
    "        end = start + batch_size\n",
    "        test(features[start:end])\n",
    "\n",
    "# Пример вызова\n",
    "features = list(range(70))  # Пример списка фичей\n",
    "process_features(features)"
   ]
  },
  {
   "cell_type": "code",
   "execution_count": null,
   "metadata": {},
   "outputs": [],
   "source": [
    "# Set up a Milvus client\n",
    "client = MilvusClient(\n",
    "    uri=\"<http://localhost:19530>\"\n",
    ")\n",
    "\n",
    "collection = Collection(\"bm25_demo\")      # Get an existing collection.\n",
    "collection.load()\n",
    "\n",
    "queries = [\"What product should I buy for traveling\"]\n",
    "query_embeddings = bm25_ef.encode_queries(queries)\n",
    "\n",
    "res = client.search(\n",
    "    collection_name=\"bm25_demo\",\n",
    "    data=query_embeddings[0],\n",
    "    anns_field=\"product_title_vector\",\n",
    "    limit=1,\n",
    "    search_params={\"metric_type\": \"IP\", \"params\": {}},\n",
    "    output_fields =[\"product_title\"]\n",
    ")\n",
    "\n",
    "print(res)\n",
    "\"\"\"\n",
    "Output:\n",
    "[[{'id': '449258959812952449', 'distance': 4.3612961769104, 'entity': {'product_title': 'Cloudz\"The Big Bag\" Travel & Sport Duffle Bag'}}]]\n",
    "\"\"\"\n"
   ]
  }
 ],
 "metadata": {
  "kernelspec": {
   "display_name": "venv",
   "language": "python",
   "name": "python3"
  },
  "language_info": {
   "codemirror_mode": {
    "name": "ipython",
    "version": 3
   },
   "file_extension": ".py",
   "mimetype": "text/x-python",
   "name": "python",
   "nbconvert_exporter": "python",
   "pygments_lexer": "ipython3",
   "version": "3.13.0"
  }
 },
 "nbformat": 4,
 "nbformat_minor": 2
}
